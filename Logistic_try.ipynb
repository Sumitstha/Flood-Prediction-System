{
 "cells": [
  {
   "cell_type": "code",
   "execution_count": 1,
   "id": "48f29bb7",
   "metadata": {},
   "outputs": [],
   "source": [
    "import pandas as pd\n",
    "import numpy as np\n",
    "import matplotlib.pyplot as plt\n",
    "from sklearn.model_selection import train_test_split\n",
    "from sklearn.metrics import accuracy_score\n",
    "from sklearn.preprocessing import StandardScaler"
   ]
  },
  {
   "cell_type": "code",
   "execution_count": 2,
   "id": "e83c6b8d",
   "metadata": {},
   "outputs": [],
   "source": [
    "main_dataset = pd.read_csv(\"main.csv\")"
   ]
  },
  {
   "cell_type": "code",
   "execution_count": 3,
   "id": "9dd91d64",
   "metadata": {},
   "outputs": [
    {
     "data": {
      "text/plain": [
       "(324, 3)"
      ]
     },
     "execution_count": 3,
     "metadata": {},
     "output_type": "execute_result"
    }
   ],
   "source": [
    "main_dataset.shape"
   ]
  },
  {
   "cell_type": "code",
   "execution_count": 4,
   "id": "b0046a4c",
   "metadata": {},
   "outputs": [
    {
     "data": {
      "text/html": [
       "<div>\n",
       "<style scoped>\n",
       "    .dataframe tbody tr th:only-of-type {\n",
       "        vertical-align: middle;\n",
       "    }\n",
       "\n",
       "    .dataframe tbody tr th {\n",
       "        vertical-align: top;\n",
       "    }\n",
       "\n",
       "    .dataframe thead th {\n",
       "        text-align: right;\n",
       "    }\n",
       "</style>\n",
       "<table border=\"1\" class=\"dataframe\">\n",
       "  <thead>\n",
       "    <tr style=\"text-align: right;\">\n",
       "      <th></th>\n",
       "      <th>Rainfall</th>\n",
       "      <th>River</th>\n",
       "      <th>Label</th>\n",
       "    </tr>\n",
       "  </thead>\n",
       "  <tbody>\n",
       "    <tr>\n",
       "      <th>0</th>\n",
       "      <td>6.2</td>\n",
       "      <td>3.914839</td>\n",
       "      <td>0</td>\n",
       "    </tr>\n",
       "    <tr>\n",
       "      <th>1</th>\n",
       "      <td>54.9</td>\n",
       "      <td>4.627857</td>\n",
       "      <td>0</td>\n",
       "    </tr>\n",
       "    <tr>\n",
       "      <th>2</th>\n",
       "      <td>16.4</td>\n",
       "      <td>3.305161</td>\n",
       "      <td>0</td>\n",
       "    </tr>\n",
       "    <tr>\n",
       "      <th>3</th>\n",
       "      <td>56.8</td>\n",
       "      <td>4.457667</td>\n",
       "      <td>0</td>\n",
       "    </tr>\n",
       "    <tr>\n",
       "      <th>4</th>\n",
       "      <td>167.4</td>\n",
       "      <td>9.347742</td>\n",
       "      <td>1</td>\n",
       "    </tr>\n",
       "  </tbody>\n",
       "</table>\n",
       "</div>"
      ],
      "text/plain": [
       "   Rainfall     River  Label\n",
       "0       6.2  3.914839      0\n",
       "1      54.9  4.627857      0\n",
       "2      16.4  3.305161      0\n",
       "3      56.8  4.457667      0\n",
       "4     167.4  9.347742      1"
      ]
     },
     "execution_count": 4,
     "metadata": {},
     "output_type": "execute_result"
    }
   ],
   "source": [
    "main_dataset.head()"
   ]
  },
  {
   "cell_type": "code",
   "execution_count": 5,
   "id": "fb34cf56",
   "metadata": {},
   "outputs": [
    {
     "data": {
      "text/html": [
       "<div>\n",
       "<style scoped>\n",
       "    .dataframe tbody tr th:only-of-type {\n",
       "        vertical-align: middle;\n",
       "    }\n",
       "\n",
       "    .dataframe tbody tr th {\n",
       "        vertical-align: top;\n",
       "    }\n",
       "\n",
       "    .dataframe thead th {\n",
       "        text-align: right;\n",
       "    }\n",
       "</style>\n",
       "<table border=\"1\" class=\"dataframe\">\n",
       "  <thead>\n",
       "    <tr style=\"text-align: right;\">\n",
       "      <th></th>\n",
       "      <th>Rainfall</th>\n",
       "      <th>River</th>\n",
       "      <th>Label</th>\n",
       "    </tr>\n",
       "  </thead>\n",
       "  <tbody>\n",
       "    <tr>\n",
       "      <th>319</th>\n",
       "      <td>158.2</td>\n",
       "      <td>2.917667</td>\n",
       "      <td>0</td>\n",
       "    </tr>\n",
       "    <tr>\n",
       "      <th>320</th>\n",
       "      <td>258.5</td>\n",
       "      <td>2.738333</td>\n",
       "      <td>0</td>\n",
       "    </tr>\n",
       "    <tr>\n",
       "      <th>321</th>\n",
       "      <td>8.2</td>\n",
       "      <td>2.135700</td>\n",
       "      <td>0</td>\n",
       "    </tr>\n",
       "    <tr>\n",
       "      <th>322</th>\n",
       "      <td>0.0</td>\n",
       "      <td>2.347419</td>\n",
       "      <td>0</td>\n",
       "    </tr>\n",
       "    <tr>\n",
       "      <th>323</th>\n",
       "      <td>102.0</td>\n",
       "      <td>6.100000</td>\n",
       "      <td>1</td>\n",
       "    </tr>\n",
       "  </tbody>\n",
       "</table>\n",
       "</div>"
      ],
      "text/plain": [
       "     Rainfall     River  Label\n",
       "319     158.2  2.917667      0\n",
       "320     258.5  2.738333      0\n",
       "321       8.2  2.135700      0\n",
       "322       0.0  2.347419      0\n",
       "323     102.0  6.100000      1"
      ]
     },
     "execution_count": 5,
     "metadata": {},
     "output_type": "execute_result"
    }
   ],
   "source": [
    "main_dataset.tail()"
   ]
  },
  {
   "cell_type": "code",
   "execution_count": 6,
   "id": "5ccbc0d1",
   "metadata": {},
   "outputs": [
    {
     "data": {
      "text/html": [
       "<div>\n",
       "<style scoped>\n",
       "    .dataframe tbody tr th:only-of-type {\n",
       "        vertical-align: middle;\n",
       "    }\n",
       "\n",
       "    .dataframe tbody tr th {\n",
       "        vertical-align: top;\n",
       "    }\n",
       "\n",
       "    .dataframe thead th {\n",
       "        text-align: right;\n",
       "    }\n",
       "</style>\n",
       "<table border=\"1\" class=\"dataframe\">\n",
       "  <thead>\n",
       "    <tr style=\"text-align: right;\">\n",
       "      <th></th>\n",
       "      <th>Rainfall</th>\n",
       "      <th>River</th>\n",
       "      <th>Label</th>\n",
       "    </tr>\n",
       "  </thead>\n",
       "  <tbody>\n",
       "    <tr>\n",
       "      <th>0</th>\n",
       "      <td>6.2</td>\n",
       "      <td>3.914839</td>\n",
       "      <td>0</td>\n",
       "    </tr>\n",
       "    <tr>\n",
       "      <th>1</th>\n",
       "      <td>54.9</td>\n",
       "      <td>4.627857</td>\n",
       "      <td>0</td>\n",
       "    </tr>\n",
       "    <tr>\n",
       "      <th>2</th>\n",
       "      <td>16.4</td>\n",
       "      <td>3.305161</td>\n",
       "      <td>0</td>\n",
       "    </tr>\n",
       "    <tr>\n",
       "      <th>3</th>\n",
       "      <td>56.8</td>\n",
       "      <td>4.457667</td>\n",
       "      <td>0</td>\n",
       "    </tr>\n",
       "    <tr>\n",
       "      <th>4</th>\n",
       "      <td>167.4</td>\n",
       "      <td>9.347742</td>\n",
       "      <td>1</td>\n",
       "    </tr>\n",
       "    <tr>\n",
       "      <th>...</th>\n",
       "      <td>...</td>\n",
       "      <td>...</td>\n",
       "      <td>...</td>\n",
       "    </tr>\n",
       "    <tr>\n",
       "      <th>319</th>\n",
       "      <td>158.2</td>\n",
       "      <td>2.917667</td>\n",
       "      <td>0</td>\n",
       "    </tr>\n",
       "    <tr>\n",
       "      <th>320</th>\n",
       "      <td>258.5</td>\n",
       "      <td>2.738333</td>\n",
       "      <td>0</td>\n",
       "    </tr>\n",
       "    <tr>\n",
       "      <th>321</th>\n",
       "      <td>8.2</td>\n",
       "      <td>2.135700</td>\n",
       "      <td>0</td>\n",
       "    </tr>\n",
       "    <tr>\n",
       "      <th>322</th>\n",
       "      <td>0.0</td>\n",
       "      <td>2.347419</td>\n",
       "      <td>0</td>\n",
       "    </tr>\n",
       "    <tr>\n",
       "      <th>323</th>\n",
       "      <td>102.0</td>\n",
       "      <td>6.100000</td>\n",
       "      <td>1</td>\n",
       "    </tr>\n",
       "  </tbody>\n",
       "</table>\n",
       "<p>324 rows × 3 columns</p>\n",
       "</div>"
      ],
      "text/plain": [
       "     Rainfall     River  Label\n",
       "0         6.2  3.914839      0\n",
       "1        54.9  4.627857      0\n",
       "2        16.4  3.305161      0\n",
       "3        56.8  4.457667      0\n",
       "4       167.4  9.347742      1\n",
       "..        ...       ...    ...\n",
       "319     158.2  2.917667      0\n",
       "320     258.5  2.738333      0\n",
       "321       8.2  2.135700      0\n",
       "322       0.0  2.347419      0\n",
       "323     102.0  6.100000      1\n",
       "\n",
       "[324 rows x 3 columns]"
      ]
     },
     "execution_count": 6,
     "metadata": {},
     "output_type": "execute_result"
    }
   ],
   "source": [
    "main_dataset.fillna('')"
   ]
  },
  {
   "cell_type": "code",
   "execution_count": 7,
   "id": "b32cf4bd",
   "metadata": {},
   "outputs": [
    {
     "data": {
      "text/html": [
       "<div>\n",
       "<style scoped>\n",
       "    .dataframe tbody tr th:only-of-type {\n",
       "        vertical-align: middle;\n",
       "    }\n",
       "\n",
       "    .dataframe tbody tr th {\n",
       "        vertical-align: top;\n",
       "    }\n",
       "\n",
       "    .dataframe thead th {\n",
       "        text-align: right;\n",
       "    }\n",
       "</style>\n",
       "<table border=\"1\" class=\"dataframe\">\n",
       "  <thead>\n",
       "    <tr style=\"text-align: right;\">\n",
       "      <th></th>\n",
       "      <th>Rainfall</th>\n",
       "      <th>River</th>\n",
       "      <th>Label</th>\n",
       "    </tr>\n",
       "  </thead>\n",
       "  <tbody>\n",
       "    <tr>\n",
       "      <th>count</th>\n",
       "      <td>324.000000</td>\n",
       "      <td>324.000000</td>\n",
       "      <td>324.000000</td>\n",
       "    </tr>\n",
       "    <tr>\n",
       "      <th>mean</th>\n",
       "      <td>109.379938</td>\n",
       "      <td>13.458754</td>\n",
       "      <td>0.373457</td>\n",
       "    </tr>\n",
       "    <tr>\n",
       "      <th>std</th>\n",
       "      <td>125.759874</td>\n",
       "      <td>22.483928</td>\n",
       "      <td>0.484470</td>\n",
       "    </tr>\n",
       "    <tr>\n",
       "      <th>min</th>\n",
       "      <td>0.000000</td>\n",
       "      <td>1.065419</td>\n",
       "      <td>0.000000</td>\n",
       "    </tr>\n",
       "    <tr>\n",
       "      <th>25%</th>\n",
       "      <td>7.150000</td>\n",
       "      <td>2.738333</td>\n",
       "      <td>0.000000</td>\n",
       "    </tr>\n",
       "    <tr>\n",
       "      <th>50%</th>\n",
       "      <td>58.050000</td>\n",
       "      <td>4.274333</td>\n",
       "      <td>0.000000</td>\n",
       "    </tr>\n",
       "    <tr>\n",
       "      <th>75%</th>\n",
       "      <td>167.250000</td>\n",
       "      <td>15.902905</td>\n",
       "      <td>1.000000</td>\n",
       "    </tr>\n",
       "    <tr>\n",
       "      <th>max</th>\n",
       "      <td>485.400000</td>\n",
       "      <td>166.816100</td>\n",
       "      <td>1.000000</td>\n",
       "    </tr>\n",
       "  </tbody>\n",
       "</table>\n",
       "</div>"
      ],
      "text/plain": [
       "         Rainfall       River       Label\n",
       "count  324.000000  324.000000  324.000000\n",
       "mean   109.379938   13.458754    0.373457\n",
       "std    125.759874   22.483928    0.484470\n",
       "min      0.000000    1.065419    0.000000\n",
       "25%      7.150000    2.738333    0.000000\n",
       "50%     58.050000    4.274333    0.000000\n",
       "75%    167.250000   15.902905    1.000000\n",
       "max    485.400000  166.816100    1.000000"
      ]
     },
     "execution_count": 7,
     "metadata": {},
     "output_type": "execute_result"
    }
   ],
   "source": [
    "main_dataset.describe()"
   ]
  },
  {
   "cell_type": "code",
   "execution_count": 8,
   "id": "b03f9c77",
   "metadata": {},
   "outputs": [
    {
     "data": {
      "text/plain": [
       "0    203\n",
       "1    121\n",
       "Name: Label, dtype: int64"
      ]
     },
     "execution_count": 8,
     "metadata": {},
     "output_type": "execute_result"
    }
   ],
   "source": [
    "main_dataset['Label'].value_counts()"
   ]
  },
  {
   "cell_type": "code",
   "execution_count": 9,
   "id": "c1c190a6",
   "metadata": {},
   "outputs": [],
   "source": [
    "X = main_dataset.drop(columns = 'Label', axis = 1)\n",
    "Y = main_dataset['Label']"
   ]
  },
  {
   "cell_type": "code",
   "execution_count": 10,
   "id": "baaf8180",
   "metadata": {},
   "outputs": [
    {
     "name": "stdout",
     "output_type": "stream",
     "text": [
      "     Rainfall     River\n",
      "0         6.2  3.914839\n",
      "1        54.9  4.627857\n",
      "2        16.4  3.305161\n",
      "3        56.8  4.457667\n",
      "4       167.4  9.347742\n",
      "..        ...       ...\n",
      "319     158.2  2.917667\n",
      "320     258.5  2.738333\n",
      "321       8.2  2.135700\n",
      "322       0.0  2.347419\n",
      "323     102.0  6.100000\n",
      "\n",
      "[324 rows x 2 columns]\n"
     ]
    }
   ],
   "source": [
    "print(X)"
   ]
  },
  {
   "cell_type": "code",
   "execution_count": 11,
   "id": "975c90f1",
   "metadata": {},
   "outputs": [
    {
     "name": "stdout",
     "output_type": "stream",
     "text": [
      "0      0\n",
      "1      0\n",
      "2      0\n",
      "3      0\n",
      "4      1\n",
      "      ..\n",
      "319    0\n",
      "320    0\n",
      "321    0\n",
      "322    0\n",
      "323    1\n",
      "Name: Label, Length: 324, dtype: int64\n"
     ]
    }
   ],
   "source": [
    "print(Y)"
   ]
  },
  {
   "cell_type": "code",
   "execution_count": 12,
   "id": "3878c7cd",
   "metadata": {},
   "outputs": [],
   "source": [
    "from sklearn.model_selection import train_test_split\n",
    "X_train, X_test, Y_train, Y_test = train_test_split(X, Y, test_size = 0.2, stratify = Y, random_state = 42)"
   ]
  },
  {
   "cell_type": "code",
   "execution_count": 13,
   "id": "b52e8a3a",
   "metadata": {},
   "outputs": [
    {
     "name": "stdout",
     "output_type": "stream",
     "text": [
      "(259, 2) (259,) (65, 2) (65,)\n"
     ]
    }
   ],
   "source": [
    "print(X_train.shape, Y_train.shape,X_test.shape,Y_test.shape)"
   ]
  },
  {
   "cell_type": "code",
   "execution_count": 14,
   "id": "2103e128",
   "metadata": {},
   "outputs": [
    {
     "name": "stdout",
     "output_type": "stream",
     "text": [
      "     Rainfall      River\n",
      "118       6.2   3.528387\n",
      "224     257.0   3.267097\n",
      "61       25.3   3.163871\n",
      "39        6.0   1.065419\n",
      "301       3.6   4.370000\n",
      "..        ...        ...\n",
      "34        0.0   3.358387\n",
      "172     189.0  51.883870\n",
      "122      11.6   2.531290\n",
      "128     199.1   4.339333\n",
      "130       0.8   2.567419\n",
      "\n",
      "[259 rows x 2 columns]\n"
     ]
    }
   ],
   "source": [
    "print(X_train)"
   ]
  },
  {
   "cell_type": "code",
   "execution_count": 15,
   "id": "38c3f4eb",
   "metadata": {},
   "outputs": [
    {
     "name": "stdout",
     "output_type": "stream",
     "text": [
      "     Rainfall      River\n",
      "1        54.9   4.627857\n",
      "93       11.9   2.990667\n",
      "148     119.5  20.223870\n",
      "252       4.0   1.523000\n",
      "142       0.0   1.972323\n",
      "..        ...        ...\n",
      "120      15.6   2.263226\n",
      "36        4.2   1.795714\n",
      "158      86.3   3.939355\n",
      "169      19.1   2.164667\n",
      "319     158.2   2.917667\n",
      "\n",
      "[65 rows x 2 columns]\n"
     ]
    }
   ],
   "source": [
    "print(X_test)"
   ]
  },
  {
   "cell_type": "code",
   "execution_count": 16,
   "id": "9c21e2b9",
   "metadata": {},
   "outputs": [],
   "source": [
    "#print(Y_train)"
   ]
  },
  {
   "cell_type": "code",
   "execution_count": 17,
   "id": "8d118201",
   "metadata": {},
   "outputs": [],
   "source": [
    "class LogisticRegression():\n",
    "    \n",
    "    def __init__(self, learning_rate, no_of_iterations):\n",
    "        self.learning_rate = learning_rate\n",
    "        self.no_of_iterations = no_of_iterations\n",
    "        \n",
    "    def fit(self, X, Y):\n",
    "        self.m, self.n = X.shape\n",
    "        \n",
    "        self.w = np.zeros(self.n)\n",
    "        self.b = 0\n",
    "        self.X = X\n",
    "        self.Y = Y\n",
    "        \n",
    "        for i in range(self.no_of_iterations):\n",
    "            self.update_weights()\n",
    "            \n",
    "    def update_weights(self):\n",
    "        \n",
    "        Y_hat = 1/(1 + np.exp(-((self.X).dot(self.w) + self.b)))\n",
    "        \n",
    "        dw = (self.X.T).dot(Y_hat-self.Y) / self.m\n",
    "\n",
    "        db = np.sum(Y_hat - self.Y) / self.m\n",
    "        \n",
    "        self.w = self.w - self.learning_rate*dw\n",
    "        self.b = self.b - self.learning_rate*db\n",
    "        \n",
    "        \n",
    "    def predict(self, X):\n",
    "        \n",
    "        Y_pred = 1 / (1 + np.exp( - (X.dot(self.w) + self.b ) )) \n",
    "        Y_pred = np.where( Y_pred > 6, 1, 0)\n",
    "        return Y_pred\n"
   ]
  },
  {
   "cell_type": "code",
   "execution_count": 18,
   "id": "2b6e2b1d",
   "metadata": {},
   "outputs": [],
   "source": [
    "model = LogisticRegression(learning_rate = 0.01, no_of_iterations = 10000)"
   ]
  },
  {
   "cell_type": "code",
   "execution_count": 19,
   "id": "0a20a3a4",
   "metadata": {},
   "outputs": [],
   "source": [
    "#training the model\n",
    "model.fit(X_train, Y_train)"
   ]
  },
  {
   "cell_type": "code",
   "execution_count": 20,
   "id": "1b05678e",
   "metadata": {},
   "outputs": [],
   "source": [
    "X_test_prediction = model.predict(X_test)\n",
    "test_data_accuracy = accuracy_score(Y_test,X_test_prediction)"
   ]
  },
  {
   "cell_type": "code",
   "execution_count": 21,
   "id": "60b745b4",
   "metadata": {},
   "outputs": [
    {
     "name": "stdout",
     "output_type": "stream",
     "text": [
      "Accuracy score of the test data :  0.6307692307692307\n"
     ]
    }
   ],
   "source": [
    "print('Accuracy score of the test data : ', test_data_accuracy)"
   ]
  },
  {
   "cell_type": "code",
   "execution_count": 22,
   "id": "dc95c1b3",
   "metadata": {},
   "outputs": [],
   "source": [
    "X_train_prediction = model.predict(X_train) \n",
    "train_data_accuracy = accuracy_score(Y_train,X_train_prediction)"
   ]
  },
  {
   "cell_type": "code",
   "execution_count": 23,
   "id": "0498d099",
   "metadata": {},
   "outputs": [
    {
     "name": "stdout",
     "output_type": "stream",
     "text": [
      "Accuracy score of the train data :  0.6254826254826255\n"
     ]
    }
   ],
   "source": [
    "print('Accuracy score of the train data : ', train_data_accuracy)"
   ]
  },
  {
   "cell_type": "code",
   "execution_count": 24,
   "id": "2341faf4",
   "metadata": {},
   "outputs": [],
   "source": [
    "from joblib import dump\n"
   ]
  },
  {
   "cell_type": "code",
   "execution_count": 25,
   "id": "1829d25f",
   "metadata": {},
   "outputs": [
    {
     "data": {
      "text/plain": [
       "['./model.joblib']"
      ]
     },
     "execution_count": 25,
     "metadata": {},
     "output_type": "execute_result"
    }
   ],
   "source": [
    "dump(model, './model.joblib')"
   ]
  },
  {
   "cell_type": "code",
   "execution_count": 26,
   "id": "119a0aec",
   "metadata": {},
   "outputs": [],
   "source": [
    "rain = np.array([[428.5, 35.73226]])"
   ]
  },
  {
   "cell_type": "code",
   "execution_count": 27,
   "id": "864abdd3",
   "metadata": {},
   "outputs": [
    {
     "name": "stdout",
     "output_type": "stream",
     "text": [
      "[[428.5      35.73226]]\n"
     ]
    }
   ],
   "source": [
    "print(rain)"
   ]
  },
  {
   "cell_type": "code",
   "execution_count": 28,
   "id": "e76ae69f",
   "metadata": {},
   "outputs": [
    {
     "name": "stdout",
     "output_type": "stream",
     "text": [
      "[0]\n"
     ]
    }
   ],
   "source": [
    "result = model.predict(rain)\n",
    "print(result)"
   ]
  },
  {
   "cell_type": "code",
   "execution_count": 29,
   "id": "bf01c2fa",
   "metadata": {},
   "outputs": [],
   "source": [
    "from sklearn import metrics"
   ]
  },
  {
   "cell_type": "code",
   "execution_count": 30,
   "id": "ee362d23",
   "metadata": {},
   "outputs": [],
   "source": [
    "MSE_train = metrics.mean_absolute_error(Y_train, X_train_prediction)\n",
    "MSE_test = metrics.mean_absolute_error(Y_test, X_test_prediction)"
   ]
  },
  {
   "cell_type": "code",
   "execution_count": 31,
   "id": "78a23321",
   "metadata": {},
   "outputs": [
    {
     "name": "stdout",
     "output_type": "stream",
     "text": [
      "0.3745173745173745\n"
     ]
    }
   ],
   "source": [
    "print(MSE_train)"
   ]
  },
  {
   "cell_type": "code",
   "execution_count": 32,
   "id": "c5bf12f9",
   "metadata": {},
   "outputs": [
    {
     "name": "stdout",
     "output_type": "stream",
     "text": [
      "0.36923076923076925\n"
     ]
    }
   ],
   "source": [
    "print(MSE_test)"
   ]
  },
  {
   "cell_type": "code",
   "execution_count": null,
   "id": "0f052f1c",
   "metadata": {},
   "outputs": [],
   "source": []
  }
 ],
 "metadata": {
  "kernelspec": {
   "display_name": "Python 3 (ipykernel)",
   "language": "python",
   "name": "python3"
  },
  "language_info": {
   "codemirror_mode": {
    "name": "ipython",
    "version": 3
   },
   "file_extension": ".py",
   "mimetype": "text/x-python",
   "name": "python",
   "nbconvert_exporter": "python",
   "pygments_lexer": "ipython3",
   "version": "3.10.5"
  }
 },
 "nbformat": 4,
 "nbformat_minor": 5
}
