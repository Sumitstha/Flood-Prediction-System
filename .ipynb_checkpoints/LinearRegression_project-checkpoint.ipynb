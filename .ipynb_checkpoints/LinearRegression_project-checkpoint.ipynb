{
 "cells": [
  {
   "cell_type": "markdown",
   "id": "bdcb20ef",
   "metadata": {},
   "source": [
    "# Importing Libraries and Packages"
   ]
  },
  {
   "cell_type": "code",
   "execution_count": 1,
   "id": "f63ebb87",
   "metadata": {},
   "outputs": [],
   "source": [
    "import pandas as pd\n",
    "import numpy as np\n",
    "import matplotlib.pyplot as plt\n",
    "from sklearn.model_selection import train_test_split\n",
    "from sklearn.metrics import accuracy_score\n",
    "from sklearn.metrics import mean_absolute_error, mean_squared_error\n",
    "import seaborn as sns"
   ]
  },
  {
   "cell_type": "markdown",
   "id": "cb8138a7",
   "metadata": {},
   "source": [
    "# Loading the dataset"
   ]
  },
  {
   "cell_type": "code",
   "execution_count": 2,
   "id": "f55f1acc",
   "metadata": {},
   "outputs": [],
   "source": [
    "main_dataset = pd.read_csv(\"main.csv\")"
   ]
  },
  {
   "cell_type": "markdown",
   "id": "163e5662",
   "metadata": {},
   "source": [
    "# Exploratory Data Analysis (EDA)"
   ]
  },
  {
   "cell_type": "code",
   "execution_count": 3,
   "id": "7ee0f8f9",
   "metadata": {},
   "outputs": [
    {
     "data": {
      "text/plain": [
       "(324, 3)"
      ]
     },
     "execution_count": 3,
     "metadata": {},
     "output_type": "execute_result"
    }
   ],
   "source": [
    "main_dataset.shape"
   ]
  },
  {
   "cell_type": "code",
   "execution_count": 4,
   "id": "2600579e",
   "metadata": {},
   "outputs": [
    {
     "data": {
      "text/html": [
       "<div>\n",
       "<style scoped>\n",
       "    .dataframe tbody tr th:only-of-type {\n",
       "        vertical-align: middle;\n",
       "    }\n",
       "\n",
       "    .dataframe tbody tr th {\n",
       "        vertical-align: top;\n",
       "    }\n",
       "\n",
       "    .dataframe thead th {\n",
       "        text-align: right;\n",
       "    }\n",
       "</style>\n",
       "<table border=\"1\" class=\"dataframe\">\n",
       "  <thead>\n",
       "    <tr style=\"text-align: right;\">\n",
       "      <th></th>\n",
       "      <th>Rainfall</th>\n",
       "      <th>River</th>\n",
       "      <th>Label</th>\n",
       "    </tr>\n",
       "  </thead>\n",
       "  <tbody>\n",
       "    <tr>\n",
       "      <th>0</th>\n",
       "      <td>6.2</td>\n",
       "      <td>3.914839</td>\n",
       "      <td>0</td>\n",
       "    </tr>\n",
       "    <tr>\n",
       "      <th>1</th>\n",
       "      <td>54.9</td>\n",
       "      <td>4.627857</td>\n",
       "      <td>0</td>\n",
       "    </tr>\n",
       "    <tr>\n",
       "      <th>2</th>\n",
       "      <td>16.4</td>\n",
       "      <td>3.305161</td>\n",
       "      <td>0</td>\n",
       "    </tr>\n",
       "    <tr>\n",
       "      <th>3</th>\n",
       "      <td>56.8</td>\n",
       "      <td>4.457667</td>\n",
       "      <td>0</td>\n",
       "    </tr>\n",
       "    <tr>\n",
       "      <th>4</th>\n",
       "      <td>167.4</td>\n",
       "      <td>9.347742</td>\n",
       "      <td>1</td>\n",
       "    </tr>\n",
       "  </tbody>\n",
       "</table>\n",
       "</div>"
      ],
      "text/plain": [
       "   Rainfall     River  Label\n",
       "0       6.2  3.914839      0\n",
       "1      54.9  4.627857      0\n",
       "2      16.4  3.305161      0\n",
       "3      56.8  4.457667      0\n",
       "4     167.4  9.347742      1"
      ]
     },
     "execution_count": 4,
     "metadata": {},
     "output_type": "execute_result"
    }
   ],
   "source": [
    "main_dataset.head()"
   ]
  },
  {
   "cell_type": "code",
   "execution_count": 5,
   "id": "12db94fb",
   "metadata": {},
   "outputs": [
    {
     "data": {
      "text/html": [
       "<div>\n",
       "<style scoped>\n",
       "    .dataframe tbody tr th:only-of-type {\n",
       "        vertical-align: middle;\n",
       "    }\n",
       "\n",
       "    .dataframe tbody tr th {\n",
       "        vertical-align: top;\n",
       "    }\n",
       "\n",
       "    .dataframe thead th {\n",
       "        text-align: right;\n",
       "    }\n",
       "</style>\n",
       "<table border=\"1\" class=\"dataframe\">\n",
       "  <thead>\n",
       "    <tr style=\"text-align: right;\">\n",
       "      <th></th>\n",
       "      <th>Rainfall</th>\n",
       "      <th>River</th>\n",
       "      <th>Label</th>\n",
       "    </tr>\n",
       "  </thead>\n",
       "  <tbody>\n",
       "    <tr>\n",
       "      <th>319</th>\n",
       "      <td>158.2</td>\n",
       "      <td>2.917667</td>\n",
       "      <td>0</td>\n",
       "    </tr>\n",
       "    <tr>\n",
       "      <th>320</th>\n",
       "      <td>258.5</td>\n",
       "      <td>2.738333</td>\n",
       "      <td>0</td>\n",
       "    </tr>\n",
       "    <tr>\n",
       "      <th>321</th>\n",
       "      <td>8.2</td>\n",
       "      <td>2.135700</td>\n",
       "      <td>0</td>\n",
       "    </tr>\n",
       "    <tr>\n",
       "      <th>322</th>\n",
       "      <td>0.0</td>\n",
       "      <td>2.347419</td>\n",
       "      <td>0</td>\n",
       "    </tr>\n",
       "    <tr>\n",
       "      <th>323</th>\n",
       "      <td>102.0</td>\n",
       "      <td>6.100000</td>\n",
       "      <td>1</td>\n",
       "    </tr>\n",
       "  </tbody>\n",
       "</table>\n",
       "</div>"
      ],
      "text/plain": [
       "     Rainfall     River  Label\n",
       "319     158.2  2.917667      0\n",
       "320     258.5  2.738333      0\n",
       "321       8.2  2.135700      0\n",
       "322       0.0  2.347419      0\n",
       "323     102.0  6.100000      1"
      ]
     },
     "execution_count": 5,
     "metadata": {},
     "output_type": "execute_result"
    }
   ],
   "source": [
    "main_dataset.tail()"
   ]
  },
  {
   "cell_type": "markdown",
   "id": "ea441deb",
   "metadata": {},
   "source": [
    "# Columns Information\n",
    "* Rainfall: Rainfall amount \n",
    "* River: River Amount\n",
    "* Label: 0 for No flood and 1 for Flood"
   ]
  },
  {
   "cell_type": "code",
   "execution_count": 6,
   "id": "6a28bf3b",
   "metadata": {},
   "outputs": [
    {
     "data": {
      "text/plain": [
       "Index(['Rainfall', 'River', 'Label'], dtype='object')"
      ]
     },
     "execution_count": 6,
     "metadata": {},
     "output_type": "execute_result"
    }
   ],
   "source": [
    "main_dataset.columns"
   ]
  },
  {
   "cell_type": "code",
   "execution_count": 7,
   "id": "d90a64f7",
   "metadata": {},
   "outputs": [
    {
     "data": {
      "text/plain": [
       "Rainfall    float64\n",
       "River       float64\n",
       "Label         int64\n",
       "dtype: object"
      ]
     },
     "execution_count": 7,
     "metadata": {},
     "output_type": "execute_result"
    }
   ],
   "source": [
    "main_dataset.dtypes"
   ]
  },
  {
   "cell_type": "code",
   "execution_count": 8,
   "id": "4ad45471",
   "metadata": {},
   "outputs": [
    {
     "data": {
      "text/plain": [
       "Rainfall    261\n",
       "River       107\n",
       "Label         2\n",
       "dtype: int64"
      ]
     },
     "execution_count": 8,
     "metadata": {},
     "output_type": "execute_result"
    }
   ],
   "source": [
    "main_dataset.nunique()"
   ]
  },
  {
   "cell_type": "code",
   "execution_count": 9,
   "id": "86475c18",
   "metadata": {},
   "outputs": [
    {
     "data": {
      "text/html": [
       "<div>\n",
       "<style scoped>\n",
       "    .dataframe tbody tr th:only-of-type {\n",
       "        vertical-align: middle;\n",
       "    }\n",
       "\n",
       "    .dataframe tbody tr th {\n",
       "        vertical-align: top;\n",
       "    }\n",
       "\n",
       "    .dataframe thead th {\n",
       "        text-align: right;\n",
       "    }\n",
       "</style>\n",
       "<table border=\"1\" class=\"dataframe\">\n",
       "  <thead>\n",
       "    <tr style=\"text-align: right;\">\n",
       "      <th></th>\n",
       "      <th>Rainfall</th>\n",
       "      <th>River</th>\n",
       "      <th>Label</th>\n",
       "    </tr>\n",
       "  </thead>\n",
       "  <tbody>\n",
       "    <tr>\n",
       "      <th>0</th>\n",
       "      <td>False</td>\n",
       "      <td>False</td>\n",
       "      <td>False</td>\n",
       "    </tr>\n",
       "    <tr>\n",
       "      <th>1</th>\n",
       "      <td>False</td>\n",
       "      <td>False</td>\n",
       "      <td>False</td>\n",
       "    </tr>\n",
       "    <tr>\n",
       "      <th>2</th>\n",
       "      <td>False</td>\n",
       "      <td>False</td>\n",
       "      <td>False</td>\n",
       "    </tr>\n",
       "    <tr>\n",
       "      <th>3</th>\n",
       "      <td>False</td>\n",
       "      <td>False</td>\n",
       "      <td>False</td>\n",
       "    </tr>\n",
       "    <tr>\n",
       "      <th>4</th>\n",
       "      <td>False</td>\n",
       "      <td>False</td>\n",
       "      <td>False</td>\n",
       "    </tr>\n",
       "    <tr>\n",
       "      <th>...</th>\n",
       "      <td>...</td>\n",
       "      <td>...</td>\n",
       "      <td>...</td>\n",
       "    </tr>\n",
       "    <tr>\n",
       "      <th>319</th>\n",
       "      <td>False</td>\n",
       "      <td>False</td>\n",
       "      <td>False</td>\n",
       "    </tr>\n",
       "    <tr>\n",
       "      <th>320</th>\n",
       "      <td>False</td>\n",
       "      <td>False</td>\n",
       "      <td>False</td>\n",
       "    </tr>\n",
       "    <tr>\n",
       "      <th>321</th>\n",
       "      <td>False</td>\n",
       "      <td>False</td>\n",
       "      <td>False</td>\n",
       "    </tr>\n",
       "    <tr>\n",
       "      <th>322</th>\n",
       "      <td>False</td>\n",
       "      <td>False</td>\n",
       "      <td>False</td>\n",
       "    </tr>\n",
       "    <tr>\n",
       "      <th>323</th>\n",
       "      <td>False</td>\n",
       "      <td>False</td>\n",
       "      <td>False</td>\n",
       "    </tr>\n",
       "  </tbody>\n",
       "</table>\n",
       "<p>324 rows × 3 columns</p>\n",
       "</div>"
      ],
      "text/plain": [
       "     Rainfall  River  Label\n",
       "0       False  False  False\n",
       "1       False  False  False\n",
       "2       False  False  False\n",
       "3       False  False  False\n",
       "4       False  False  False\n",
       "..        ...    ...    ...\n",
       "319     False  False  False\n",
       "320     False  False  False\n",
       "321     False  False  False\n",
       "322     False  False  False\n",
       "323     False  False  False\n",
       "\n",
       "[324 rows x 3 columns]"
      ]
     },
     "execution_count": 9,
     "metadata": {},
     "output_type": "execute_result"
    }
   ],
   "source": [
    "main_dataset.isnull()"
   ]
  },
  {
   "cell_type": "code",
   "execution_count": 10,
   "id": "5df5943b",
   "metadata": {},
   "outputs": [
    {
     "data": {
      "text/plain": [
       "Rainfall    0\n",
       "River       0\n",
       "Label       0\n",
       "dtype: int64"
      ]
     },
     "execution_count": 10,
     "metadata": {},
     "output_type": "execute_result"
    }
   ],
   "source": [
    "main_dataset.isnull().sum()"
   ]
  },
  {
   "cell_type": "code",
   "execution_count": 11,
   "id": "d03601f8",
   "metadata": {},
   "outputs": [
    {
     "data": {
      "text/html": [
       "<div>\n",
       "<style scoped>\n",
       "    .dataframe tbody tr th:only-of-type {\n",
       "        vertical-align: middle;\n",
       "    }\n",
       "\n",
       "    .dataframe tbody tr th {\n",
       "        vertical-align: top;\n",
       "    }\n",
       "\n",
       "    .dataframe thead th {\n",
       "        text-align: right;\n",
       "    }\n",
       "</style>\n",
       "<table border=\"1\" class=\"dataframe\">\n",
       "  <thead>\n",
       "    <tr style=\"text-align: right;\">\n",
       "      <th></th>\n",
       "      <th>Rainfall</th>\n",
       "      <th>River</th>\n",
       "      <th>Label</th>\n",
       "    </tr>\n",
       "  </thead>\n",
       "  <tbody>\n",
       "    <tr>\n",
       "      <th>count</th>\n",
       "      <td>324.000000</td>\n",
       "      <td>324.000000</td>\n",
       "      <td>324.000000</td>\n",
       "    </tr>\n",
       "    <tr>\n",
       "      <th>mean</th>\n",
       "      <td>109.379938</td>\n",
       "      <td>13.458754</td>\n",
       "      <td>0.373457</td>\n",
       "    </tr>\n",
       "    <tr>\n",
       "      <th>std</th>\n",
       "      <td>125.759874</td>\n",
       "      <td>22.483928</td>\n",
       "      <td>0.484470</td>\n",
       "    </tr>\n",
       "    <tr>\n",
       "      <th>min</th>\n",
       "      <td>0.000000</td>\n",
       "      <td>1.065419</td>\n",
       "      <td>0.000000</td>\n",
       "    </tr>\n",
       "    <tr>\n",
       "      <th>25%</th>\n",
       "      <td>7.150000</td>\n",
       "      <td>2.738333</td>\n",
       "      <td>0.000000</td>\n",
       "    </tr>\n",
       "    <tr>\n",
       "      <th>50%</th>\n",
       "      <td>58.050000</td>\n",
       "      <td>4.274333</td>\n",
       "      <td>0.000000</td>\n",
       "    </tr>\n",
       "    <tr>\n",
       "      <th>75%</th>\n",
       "      <td>167.250000</td>\n",
       "      <td>15.902905</td>\n",
       "      <td>1.000000</td>\n",
       "    </tr>\n",
       "    <tr>\n",
       "      <th>max</th>\n",
       "      <td>485.400000</td>\n",
       "      <td>166.816100</td>\n",
       "      <td>1.000000</td>\n",
       "    </tr>\n",
       "  </tbody>\n",
       "</table>\n",
       "</div>"
      ],
      "text/plain": [
       "         Rainfall       River       Label\n",
       "count  324.000000  324.000000  324.000000\n",
       "mean   109.379938   13.458754    0.373457\n",
       "std    125.759874   22.483928    0.484470\n",
       "min      0.000000    1.065419    0.000000\n",
       "25%      7.150000    2.738333    0.000000\n",
       "50%     58.050000    4.274333    0.000000\n",
       "75%    167.250000   15.902905    1.000000\n",
       "max    485.400000  166.816100    1.000000"
      ]
     },
     "execution_count": 11,
     "metadata": {},
     "output_type": "execute_result"
    }
   ],
   "source": [
    "main_dataset.describe()"
   ]
  },
  {
   "cell_type": "markdown",
   "id": "3909ba3c",
   "metadata": {},
   "source": [
    "# Statistical Description\n",
    "* 25% = First Quartile\n",
    "* 50% = Second Quartile\n",
    "* 75% = Third Quartile"
   ]
  },
  {
   "cell_type": "code",
   "execution_count": 12,
   "id": "cd5eef26",
   "metadata": {},
   "outputs": [
    {
     "data": {
      "text/plain": [
       "<bound method DataFrame.corr of      Rainfall     River  Label\n",
       "0         6.2  3.914839      0\n",
       "1        54.9  4.627857      0\n",
       "2        16.4  3.305161      0\n",
       "3        56.8  4.457667      0\n",
       "4       167.4  9.347742      1\n",
       "..        ...       ...    ...\n",
       "319     158.2  2.917667      0\n",
       "320     258.5  2.738333      0\n",
       "321       8.2  2.135700      0\n",
       "322       0.0  2.347419      0\n",
       "323     102.0  6.100000      1\n",
       "\n",
       "[324 rows x 3 columns]>"
      ]
     },
     "execution_count": 12,
     "metadata": {},
     "output_type": "execute_result"
    }
   ],
   "source": [
    "main_dataset.corr"
   ]
  },
  {
   "cell_type": "code",
   "execution_count": 13,
   "id": "28ee32c5",
   "metadata": {},
   "outputs": [
    {
     "data": {
      "text/plain": [
       "<AxesSubplot: >"
      ]
     },
     "execution_count": 13,
     "metadata": {},
     "output_type": "execute_result"
    },
    {
     "data": {
      "image/png": "[encoded data removed]",
      "text/plain": [
       "<Figure size 720x720 with 2 Axes>"
      ]
     },
     "metadata": {
      "needs_background": "light"
     },
     "output_type": "display_data"
    }
   ],
   "source": [
    "# annot = True gives SideBar\n",
    "# In our case features are less so its ok, but when there are 100s features then we ony choose those whose value is maximum and positive i.e positive correlation\n",
    "# 1 means strong posistive corelation\n",
    "plt.figure(figsize = (10, 10))\n",
    "sns.heatmap(data = main_dataset.corr(), annot = True, cmap = 'Greens')"
   ]
  },
  {
   "cell_type": "code",
   "execution_count": 14,
   "id": "3579f37d",
   "metadata": {},
   "outputs": [
    {
     "name": "stderr",
     "output_type": "stream",
     "text": [
      "C:\\Users\\Dell\\AppData\\Local\\Programs\\Python\\Python310\\lib\\site-packages\\seaborn\\axisgrid.py:2095: UserWarning: The `size` parameter has been renamed to `height`; please update your code.\n",
      "  warnings.warn(msg, UserWarning)\n"
     ]
    },
    {
     "data": {
      "text/plain": [
       "<seaborn.axisgrid.PairGrid at 0x2c5463ab760>"
      ]
     },
     "execution_count": 14,
     "metadata": {},
     "output_type": "execute_result"
    },
    {
     "data": {
      "image/png": "[encoded data removed]",
      "text/plain": [
       "<Figure size 540x540 with 12 Axes>"
      ]
     },
     "metadata": {
      "needs_background": "light"
     },
     "output_type": "display_data"
    }
   ],
   "source": [
    "#sns.pairplot(main_dataset, size = 2.5)"
   ]
  },
  {
   "cell_type": "code",
   "execution_count": 15,
   "id": "8df6dc3f",
   "metadata": {},
   "outputs": [
    {
     "data": {
      "text/plain": [
       "<AxesSubplot: >"
      ]
     },
     "execution_count": 15,
     "metadata": {},
     "output_type": "execute_result"
    },
    {
     "data": {
      "image/png": "[encoded data removed]",
      "text/plain": [
       "<Figure size 1440x1440 with 1 Axes>"
      ]
     },
     "metadata": {
      "needs_background": "light"
     },
     "output_type": "display_data"
    }
   ],
   "source": [
    "#Plot a BoxPlot\n",
    "#Used to identify outliers: Black dots or lines are outliers\n",
    "plt.figure(figsize = (20, 20))\n",
    "main_dataset.boxplot()"
   ]
  },
  {
   "cell_type": "code",
   "execution_count": 16,
   "id": "6b256820",
   "metadata": {},
   "outputs": [
    {
     "data": {
      "text/plain": [
       "0.0"
      ]
     },
     "execution_count": 16,
     "metadata": {},
     "output_type": "execute_result"
    }
   ],
   "source": [
    "main_dataset.Rainfall.min()"
   ]
  },
  {
   "cell_type": "code",
   "execution_count": 17,
   "id": "32bfd1cf",
   "metadata": {},
   "outputs": [
    {
     "data": {
      "text/plain": [
       "485.4"
      ]
     },
     "execution_count": 17,
     "metadata": {},
     "output_type": "execute_result"
    }
   ],
   "source": [
    "main_dataset.Rainfall.max()"
   ]
  },
  {
   "cell_type": "code",
   "execution_count": 18,
   "id": "117a68ff",
   "metadata": {},
   "outputs": [
    {
     "data": {
      "text/plain": [
       "1.065419"
      ]
     },
     "execution_count": 18,
     "metadata": {},
     "output_type": "execute_result"
    }
   ],
   "source": [
    "main_dataset.River.min()"
   ]
  },
  {
   "cell_type": "code",
   "execution_count": 19,
   "id": "88bd9f83",
   "metadata": {},
   "outputs": [
    {
     "data": {
      "text/plain": [
       "166.8161"
      ]
     },
     "execution_count": 19,
     "metadata": {},
     "output_type": "execute_result"
    }
   ],
   "source": [
    "main_dataset.River.max()"
   ]
  },
  {
   "cell_type": "markdown",
   "id": "148f70d1",
   "metadata": {},
   "source": [
    "# Data Cleaning"
   ]
  },
  {
   "cell_type": "code",
   "execution_count": 20,
   "id": "467cdc63",
   "metadata": {},
   "outputs": [
    {
     "data": {
      "text/html": [
       "<div>\n",
       "<style scoped>\n",
       "    .dataframe tbody tr th:only-of-type {\n",
       "        vertical-align: middle;\n",
       "    }\n",
       "\n",
       "    .dataframe tbody tr th {\n",
       "        vertical-align: top;\n",
       "    }\n",
       "\n",
       "    .dataframe thead th {\n",
       "        text-align: right;\n",
       "    }\n",
       "</style>\n",
       "<table border=\"1\" class=\"dataframe\">\n",
       "  <thead>\n",
       "    <tr style=\"text-align: right;\">\n",
       "      <th></th>\n",
       "      <th>Rainfall</th>\n",
       "      <th>River</th>\n",
       "      <th>Label</th>\n",
       "    </tr>\n",
       "  </thead>\n",
       "  <tbody>\n",
       "    <tr>\n",
       "      <th>0</th>\n",
       "      <td>6.2</td>\n",
       "      <td>3.914839</td>\n",
       "      <td>0</td>\n",
       "    </tr>\n",
       "    <tr>\n",
       "      <th>1</th>\n",
       "      <td>54.9</td>\n",
       "      <td>4.627857</td>\n",
       "      <td>0</td>\n",
       "    </tr>\n",
       "    <tr>\n",
       "      <th>2</th>\n",
       "      <td>16.4</td>\n",
       "      <td>3.305161</td>\n",
       "      <td>0</td>\n",
       "    </tr>\n",
       "    <tr>\n",
       "      <th>3</th>\n",
       "      <td>56.8</td>\n",
       "      <td>4.457667</td>\n",
       "      <td>0</td>\n",
       "    </tr>\n",
       "    <tr>\n",
       "      <th>4</th>\n",
       "      <td>167.4</td>\n",
       "      <td>9.347742</td>\n",
       "      <td>1</td>\n",
       "    </tr>\n",
       "    <tr>\n",
       "      <th>...</th>\n",
       "      <td>...</td>\n",
       "      <td>...</td>\n",
       "      <td>...</td>\n",
       "    </tr>\n",
       "    <tr>\n",
       "      <th>319</th>\n",
       "      <td>158.2</td>\n",
       "      <td>2.917667</td>\n",
       "      <td>0</td>\n",
       "    </tr>\n",
       "    <tr>\n",
       "      <th>320</th>\n",
       "      <td>258.5</td>\n",
       "      <td>2.738333</td>\n",
       "      <td>0</td>\n",
       "    </tr>\n",
       "    <tr>\n",
       "      <th>321</th>\n",
       "      <td>8.2</td>\n",
       "      <td>2.135700</td>\n",
       "      <td>0</td>\n",
       "    </tr>\n",
       "    <tr>\n",
       "      <th>322</th>\n",
       "      <td>0.0</td>\n",
       "      <td>2.347419</td>\n",
       "      <td>0</td>\n",
       "    </tr>\n",
       "    <tr>\n",
       "      <th>323</th>\n",
       "      <td>102.0</td>\n",
       "      <td>6.100000</td>\n",
       "      <td>1</td>\n",
       "    </tr>\n",
       "  </tbody>\n",
       "</table>\n",
       "<p>324 rows × 3 columns</p>\n",
       "</div>"
      ],
      "text/plain": [
       "     Rainfall     River  Label\n",
       "0         6.2  3.914839      0\n",
       "1        54.9  4.627857      0\n",
       "2        16.4  3.305161      0\n",
       "3        56.8  4.457667      0\n",
       "4       167.4  9.347742      1\n",
       "..        ...       ...    ...\n",
       "319     158.2  2.917667      0\n",
       "320     258.5  2.738333      0\n",
       "321       8.2  2.135700      0\n",
       "322       0.0  2.347419      0\n",
       "323     102.0  6.100000      1\n",
       "\n",
       "[324 rows x 3 columns]"
      ]
     },
     "execution_count": 20,
     "metadata": {},
     "output_type": "execute_result"
    }
   ],
   "source": [
    "main_dataset.fillna('')"
   ]
  },
  {
   "cell_type": "markdown",
   "id": "f27e89d9",
   "metadata": {},
   "source": [
    "# Export the dataset"
   ]
  },
  {
   "cell_type": "code",
   "execution_count": 21,
   "id": "5ced4eda",
   "metadata": {},
   "outputs": [],
   "source": [
    "#main_dataset.to_csv('flood_dataset.csv', parameters)"
   ]
  },
  {
   "cell_type": "markdown",
   "id": "61b96e7e",
   "metadata": {},
   "source": [
    "# Separating the features and target \n"
   ]
  },
  {
   "cell_type": "code",
   "execution_count": 22,
   "id": "d4eb1d24",
   "metadata": {},
   "outputs": [
    {
     "data": {
      "text/plain": [
       "0    203\n",
       "1    121\n",
       "Name: Label, dtype: int64"
      ]
     },
     "execution_count": 22,
     "metadata": {},
     "output_type": "execute_result"
    }
   ],
   "source": [
    "main_dataset['Label'].value_counts()"
   ]
  },
  {
   "cell_type": "code",
   "execution_count": 23,
   "id": "c263ed99",
   "metadata": {},
   "outputs": [],
   "source": [
    "X = main_dataset.drop(columns = 'Label', axis = 1)\n",
    "Y = main_dataset['Label']"
   ]
  },
  {
   "cell_type": "code",
   "execution_count": 24,
   "id": "f1d313c9",
   "metadata": {},
   "outputs": [
    {
     "name": "stdout",
     "output_type": "stream",
     "text": [
      "     Rainfall     River\n",
      "0         6.2  3.914839\n",
      "1        54.9  4.627857\n",
      "2        16.4  3.305161\n",
      "3        56.8  4.457667\n",
      "4       167.4  9.347742\n",
      "..        ...       ...\n",
      "319     158.2  2.917667\n",
      "320     258.5  2.738333\n",
      "321       8.2  2.135700\n",
      "322       0.0  2.347419\n",
      "323     102.0  6.100000\n",
      "\n",
      "[324 rows x 2 columns]\n"
     ]
    }
   ],
   "source": [
    "print(X)"
   ]
  },
  {
   "cell_type": "code",
   "execution_count": 25,
   "id": "9a2751da",
   "metadata": {},
   "outputs": [
    {
     "name": "stdout",
     "output_type": "stream",
     "text": [
      "0      0\n",
      "1      0\n",
      "2      0\n",
      "3      0\n",
      "4      1\n",
      "      ..\n",
      "319    0\n",
      "320    0\n",
      "321    0\n",
      "322    0\n",
      "323    1\n",
      "Name: Label, Length: 324, dtype: int64\n"
     ]
    }
   ],
   "source": [
    "print(Y)"
   ]
  },
  {
   "cell_type": "markdown",
   "id": "99495958",
   "metadata": {},
   "source": [
    "# Machine Learning- Linear Regression"
   ]
  },
  {
   "cell_type": "markdown",
   "id": "819cf77c",
   "metadata": {},
   "source": [
    "# Splitting the data"
   ]
  },
  {
   "cell_type": "code",
   "execution_count": 26,
   "id": "0ce4a393",
   "metadata": {},
   "outputs": [],
   "source": [
    "from sklearn.model_selection import train_test_split\n",
    "X_train, X_test, Y_train, Y_test = train_test_split(X, Y, test_size = 0.2, stratify = Y, random_state = 42)\n",
    "#random state to shuffle the data and get data randomly"
   ]
  },
  {
   "cell_type": "code",
   "execution_count": 27,
   "id": "b8d781ba",
   "metadata": {},
   "outputs": [
    {
     "data": {
      "text/plain": [
       "259"
      ]
     },
     "execution_count": 27,
     "metadata": {},
     "output_type": "execute_result"
    }
   ],
   "source": [
    "len(X_train)"
   ]
  },
  {
   "cell_type": "code",
   "execution_count": 28,
   "id": "9a8365d7",
   "metadata": {},
   "outputs": [
    {
     "data": {
      "text/plain": [
       "65"
      ]
     },
     "execution_count": 28,
     "metadata": {},
     "output_type": "execute_result"
    }
   ],
   "source": [
    "len(X_test)"
   ]
  },
  {
   "cell_type": "code",
   "execution_count": 29,
   "id": "6a92359c",
   "metadata": {},
   "outputs": [
    {
     "data": {
      "text/plain": [
       "259"
      ]
     },
     "execution_count": 29,
     "metadata": {},
     "output_type": "execute_result"
    }
   ],
   "source": [
    "len(Y_train)"
   ]
  },
  {
   "cell_type": "code",
   "execution_count": 30,
   "id": "86a5d4a7",
   "metadata": {},
   "outputs": [
    {
     "data": {
      "text/plain": [
       "65"
      ]
     },
     "execution_count": 30,
     "metadata": {},
     "output_type": "execute_result"
    }
   ],
   "source": [
    "len(Y_test)"
   ]
  },
  {
   "cell_type": "code",
   "execution_count": 31,
   "id": "ba24984c",
   "metadata": {},
   "outputs": [
    {
     "name": "stdout",
     "output_type": "stream",
     "text": [
      "(259, 2) (259,) (65, 2) (65,)\n"
     ]
    }
   ],
   "source": [
    "print(X_train.shape, Y_train.shape,X_test.shape,Y_test.shape)"
   ]
  },
  {
   "cell_type": "markdown",
   "id": "eb7ed6d0",
   "metadata": {},
   "source": [
    "# Choosing the model"
   ]
  },
  {
   "cell_type": "code",
   "execution_count": 32,
   "id": "2215f754",
   "metadata": {},
   "outputs": [],
   "source": [
    "from log import LinearRegression"
   ]
  },
  {
   "cell_type": "code",
   "execution_count": 33,
   "id": "6cfd29d0",
   "metadata": {},
   "outputs": [],
   "source": [
    "model = LinearRegression(learning_rate = 0.01, no_of_iterations = 10000)"
   ]
  },
  {
   "cell_type": "markdown",
   "id": "59ffbdee",
   "metadata": {},
   "source": [
    "# Fitting/ Train the model"
   ]
  },
  {
   "cell_type": "code",
   "execution_count": 34,
   "id": "257a5e4e",
   "metadata": {},
   "outputs": [],
   "source": [
    "model.fit(X_train, Y_train)"
   ]
  },
  {
   "cell_type": "code",
   "execution_count": 35,
   "id": "70d8ae2b",
   "metadata": {},
   "outputs": [
    {
     "data": {
      "text/plain": [
       "-28.079845559844184"
      ]
     },
     "execution_count": 35,
     "metadata": {},
     "output_type": "execute_result"
    }
   ],
   "source": [
    "model.b"
   ]
  },
  {
   "cell_type": "code",
   "execution_count": 36,
   "id": "f6f70fd8",
   "metadata": {},
   "outputs": [
    {
     "data": {
      "text/plain": [
       "Rainfall   -0.392479\n",
       "River       7.652853\n",
       "dtype: float64"
      ]
     },
     "execution_count": 36,
     "metadata": {},
     "output_type": "execute_result"
    }
   ],
   "source": [
    "model.w"
   ]
  },
  {
   "cell_type": "markdown",
   "id": "5dd0d5a3",
   "metadata": {},
   "source": [
    "# Prediction"
   ]
  },
  {
   "cell_type": "code",
   "execution_count": 37,
   "id": "e8cec04d",
   "metadata": {},
   "outputs": [
    {
     "data": {
      "text/plain": [
       "1      0\n",
       "93     0\n",
       "148    1\n",
       "252    0\n",
       "142    0\n",
       "      ..\n",
       "120    0\n",
       "36     0\n",
       "158    0\n",
       "169    0\n",
       "319    0\n",
       "Name: Label, Length: 65, dtype: int64"
      ]
     },
     "execution_count": 37,
     "metadata": {},
     "output_type": "execute_result"
    }
   ],
   "source": [
    "#Actual Value\n",
    "Y_test"
   ]
  },
  {
   "cell_type": "code",
   "execution_count": 38,
   "id": "5cfddf70",
   "metadata": {},
   "outputs": [],
   "source": [
    "X_test_prediction = model.predict(X_test)"
   ]
  },
  {
   "cell_type": "code",
   "execution_count": 39,
   "id": "5afa2b46",
   "metadata": {},
   "outputs": [
    {
     "data": {
      "text/plain": [
       "array([0, 0, 1, 0, 0, 0, 0, 0, 0, 0, 0, 0, 0, 1, 0, 0, 1, 1, 0, 0, 0, 0,\n",
       "       0, 0, 0, 0, 0, 0, 0, 0, 0, 0, 1, 1, 0, 0, 0, 1, 0, 1, 1, 1, 0, 1,\n",
       "       0, 0, 1, 0, 0, 0, 0, 0, 0, 0, 1, 0, 1, 1, 1, 1, 0, 0, 0, 0, 0])"
      ]
     },
     "execution_count": 39,
     "metadata": {},
     "output_type": "execute_result"
    }
   ],
   "source": [
    "#Predicted Value\n",
    "X_test_prediction"
   ]
  },
  {
   "cell_type": "markdown",
   "id": "782b3787",
   "metadata": {},
   "source": [
    "# Testing the model performance "
   ]
  },
  {
   "cell_type": "code",
   "execution_count": 40,
   "id": "c2aad3a3",
   "metadata": {},
   "outputs": [],
   "source": [
    "X_test_prediction = model.predict(X_test)\n",
    "test_data_accuracy = accuracy_score(Y_test,X_test_prediction)"
   ]
  },
  {
   "cell_type": "code",
   "execution_count": 41,
   "id": "7d0c8379",
   "metadata": {},
   "outputs": [
    {
     "name": "stdout",
     "output_type": "stream",
     "text": [
      "Accuracy score of the test data :  0.8615384615384616\n"
     ]
    }
   ],
   "source": [
    "print('Accuracy score of the test data : ', test_data_accuracy)"
   ]
  },
  {
   "cell_type": "code",
   "execution_count": 42,
   "id": "98c38fd1",
   "metadata": {},
   "outputs": [],
   "source": [
    "X_train_prediction = model.predict(X_train)\n",
    "train_data_accuracy = accuracy_score(Y_train,X_train_prediction)"
   ]
  },
  {
   "cell_type": "code",
   "execution_count": 43,
   "id": "ace4108a",
   "metadata": {},
   "outputs": [
    {
     "name": "stdout",
     "output_type": "stream",
     "text": [
      "Accuracy score of the train data :  0.9034749034749034\n"
     ]
    }
   ],
   "source": [
    "print('Accuracy score of the train data : ', train_data_accuracy)"
   ]
  },
  {
   "cell_type": "code",
   "execution_count": 44,
   "id": "24e2b563",
   "metadata": {},
   "outputs": [
    {
     "name": "stdout",
     "output_type": "stream",
     "text": [
      "0.13846153846153847\n"
     ]
    }
   ],
   "source": [
    "M_S_E_test = mean_squared_error(Y_test, X_test_prediction)\n",
    "\n",
    "print(M_S_E_test)"
   ]
  },
  {
   "cell_type": "code",
   "execution_count": 45,
   "id": "0337cd5f",
   "metadata": {},
   "outputs": [
    {
     "name": "stdout",
     "output_type": "stream",
     "text": [
      "0.09652509652509653\n"
     ]
    }
   ],
   "source": [
    "M_S_E_train = mean_squared_error(Y_train, X_train_prediction)\n",
    "\n",
    "print(M_S_E_train)"
   ]
  },
  {
   "cell_type": "code",
   "execution_count": 46,
   "id": "58fd99e6",
   "metadata": {},
   "outputs": [
    {
     "data": {
      "text/plain": [
       "0.13846153846153847"
      ]
     },
     "execution_count": 46,
     "metadata": {},
     "output_type": "execute_result"
    }
   ],
   "source": [
    "mean_absolute_error(Y_test, X_test_prediction)"
   ]
  },
  {
   "cell_type": "code",
   "execution_count": 47,
   "id": "7690ebf1",
   "metadata": {},
   "outputs": [],
   "source": [
    "#plt.scatter(Y_test, X_test_prediction)\n",
    "#plt.xlabel(\"Actual Label\")\n",
    "#plt.ylabel(\"Predicted Label\")\n",
    "#plt.grid()\n",
    "#plt.plot([min(Y_test), max(Y_test)], [min(X_test_prediction), max(X_test_prediction)], color = 'red')\n",
    "#plt.title(\"Actual Label V/s Predicted Label\")"
   ]
  },
  {
   "cell_type": "markdown",
   "id": "6aae680c",
   "metadata": {},
   "source": [
    "# Checking for Input and Output"
   ]
  },
  {
   "cell_type": "code",
   "execution_count": 48,
   "id": "bd31346e",
   "metadata": {},
   "outputs": [],
   "source": [
    "input_rain_river = np.array([[13, 6.914839]])"
   ]
  },
  {
   "cell_type": "code",
   "execution_count": 49,
   "id": "b643cf3c",
   "metadata": {},
   "outputs": [
    {
     "name": "stdout",
     "output_type": "stream",
     "text": [
      "[[13.        6.914839]]\n"
     ]
    }
   ],
   "source": [
    "print(input_rain_river)"
   ]
  },
  {
   "cell_type": "code",
   "execution_count": 50,
   "id": "e43e584d",
   "metadata": {},
   "outputs": [
    {
     "name": "stdout",
     "output_type": "stream",
     "text": [
      "[1]\n"
     ]
    }
   ],
   "source": [
    "result = model.predict(input_rain_river)\n",
    "print(result)"
   ]
  },
  {
   "cell_type": "markdown",
   "id": "75e72fc0",
   "metadata": {},
   "source": [
    "# Serializing the data"
   ]
  },
  {
   "cell_type": "code",
   "execution_count": 51,
   "id": "e0d69ccb",
   "metadata": {},
   "outputs": [],
   "source": [
    "from joblib import dump\n"
   ]
  },
  {
   "cell_type": "code",
   "execution_count": 52,
   "id": "bf3986fd",
   "metadata": {},
   "outputs": [
    {
     "data": {
      "text/plain": [
       "['./model.joblib']"
      ]
     },
     "execution_count": 52,
     "metadata": {},
     "output_type": "execute_result"
    }
   ],
   "source": [
    "dump(model, './model.joblib')"
   ]
  }
 ],
 "metadata": {
  "kernelspec": {
   "display_name": "Python 3 (ipykernel)",
   "language": "python",
   "name": "python3"
  },
  "language_info": {
   "codemirror_mode": {
    "name": "ipython",
    "version": 3
   },
   "file_extension": ".py",
   "mimetype": "text/x-python",
   "name": "python",
   "nbconvert_exporter": "python",
   "pygments_lexer": "ipython3",
   "version": "3.10.5"
  }
 },
 "nbformat": 4,
 "nbformat_minor": 5
}
